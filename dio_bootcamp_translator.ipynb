{
 "cells": [
  {
   "cell_type": "code",
   "execution_count": null,
   "metadata": {
    "colab": {
     "base_uri": "https://localhost:8080/"
    },
    "id": "nAQA7RwLmSKf",
    "outputId": "0246351d-68c0-48c4-87ca-ada7259f3cc8"
   },
   "outputs": [
    {
     "name": "stdout",
     "output_type": "stream",
     "text": [
      "Requirement already satisfied: requests in /usr/local/lib/python3.10/dist-packages (2.32.3)\n",
      "Collecting python-docx\n",
      "  Downloading python_docx-1.1.2-py3-none-any.whl.metadata (2.0 kB)\n",
      "Requirement already satisfied: charset-normalizer<4,>=2 in /usr/local/lib/python3.10/dist-packages (from requests) (3.4.0)\n",
      "Requirement already satisfied: idna<4,>=2.5 in /usr/local/lib/python3.10/dist-packages (from requests) (3.10)\n",
      "Requirement already satisfied: urllib3<3,>=1.21.1 in /usr/local/lib/python3.10/dist-packages (from requests) (2.2.3)\n",
      "Requirement already satisfied: certifi>=2017.4.17 in /usr/local/lib/python3.10/dist-packages (from requests) (2024.8.30)\n",
      "Requirement already satisfied: lxml>=3.1.0 in /usr/local/lib/python3.10/dist-packages (from python-docx) (5.3.0)\n",
      "Requirement already satisfied: typing-extensions>=4.9.0 in /usr/local/lib/python3.10/dist-packages (from python-docx) (4.12.2)\n",
      "Downloading python_docx-1.1.2-py3-none-any.whl (244 kB)\n",
      "\u001b[2K   \u001b[90m━━━━━━━━━━━━━━━━━━━━━━━━━━━━━━━━━━━━━━━━\u001b[0m \u001b[32m244.3/244.3 kB\u001b[0m \u001b[31m5.5 MB/s\u001b[0m eta \u001b[36m0:00:00\u001b[0m\n",
      "\u001b[?25hInstalling collected packages: python-docx\n",
      "Successfully installed python-docx-1.1.2\n"
     ]
    }
   ],
   "source": [
    "!pip install requests python-docx"
   ]
  },
  {
   "cell_type": "code",
   "execution_count": null,
   "metadata": {
    "id": "JSt-dP5FnAxf"
   },
   "outputs": [],
   "source": [
    "import requests\n",
    "from docx import Document\n",
    "import os\n",
    "\n",
    "subscription_key = \"YOUR_SUBSCRIPTION_KEY\"\n",
    "endpoint = \"https://api.cognitive.microsofttranslator.com\"\n",
    "location = \"YOUR_LOCATION\"\n",
    "target_language = \"LANGUAGE_CODE\"\n",
    "\n",
    "def translate_text(text, target_language):\n",
    "    path = \"/translate\"\n",
    "    constructed_url = endpoint + path\n",
    "    headers = {\n",
    "        'Ocp-Apim-Subscription-Key': subscription_key,\n",
    "        'Ocp-Apim-Subscription-Region': location,\n",
    "        'Content-type': 'application/json',\n",
    "        'X-ClientTraceId': str(os.urandom(16))\n",
    "    }\n",
    "    body = [{\n",
    "        'text': text\n",
    "    }]\n",
    "    params = {\n",
    "        'api-version': '3.0',\n",
    "        'from': 'en',\n",
    "        'to': target_language\n",
    "    }\n",
    "    request = requests.post(constructed_url, params=params, headers=headers, json=body)\n",
    "    response = request.json()\n",
    "    return response[0][\"translations\"][0][\"text\"]\n"
   ]
  },
  {
   "cell_type": "code",
   "execution_count": null,
   "metadata": {
    "colab": {
     "base_uri": "https://localhost:8080/",
     "height": 35
    },
    "id": "riE9_jUnnV2O",
    "outputId": "df72930e-c015-4192-d777-ca481823f83d"
   },
   "outputs": [
    {
     "data": {
      "application/vnd.google.colaboratory.intrinsic+json": {
       "type": "string"
      },
      "text/plain": [
       "'Eu sei que você está em algum lugar lá fora, em algum lugar distante'"
      ]
     },
     "execution_count": 5,
     "metadata": {},
     "output_type": "execute_result"
    }
   ],
   "source": [
    "translator_text(\"I know you're somewhere out there, somewhere far away\", \"pt-br\")"
   ]
  },
  {
   "cell_type": "code",
   "execution_count": null,
   "metadata": {
    "id": "DJjwhreSqeFb"
   },
   "outputs": [],
   "source": [
    "def translate_document(path):\n",
    "    document = Document(path)\n",
    "    full_text = []\n",
    "    for paragraph in document.paragraphs:\n",
    "        translated_text = translate_text(paragraph.text, target_language)\n",
    "        full_text.append(translated_text)\n",
    "\n",
    "    translated_doc = Document()\n",
    "    for line in full_text:\n",
    "        translated_doc.add_paragraph(line)\n",
    "\n",
    "    path_translated = path.replace(\".docx\", f\"_{target_language}.docx\")\n",
    "    translated_doc.save(path_translated)\n",
    "    return path_translated"
   ]
  },
  {
   "cell_type": "code",
   "execution_count": null,
   "metadata": {
    "colab": {
     "base_uri": "https://localhost:8080/",
     "height": 35
    },
    "id": "dVEpHGvCrDgj",
    "outputId": "2d86fb42-64c8-445c-d04f-db67ab415b0e"
   },
   "outputs": [
    {
     "data": {
      "application/vnd.google.colaboratory.intrinsic+json": {
       "type": "string"
      },
      "text/plain": [
       "'/content/musica_pt-br.docx'"
      ]
     },
     "execution_count": 16,
     "metadata": {},
     "output_type": "execute_result"
    }
   ],
   "source": [
    "translate_document(\"/content/musica.docx\")"
   ]
  }
 ],
 "metadata": {
  "colab": {
   "provenance": []
  },
  "kernelspec": {
   "display_name": "Python 3",
   "name": "python3"
  },
  "language_info": {
   "name": "python"
  }
 },
 "nbformat": 4,
 "nbformat_minor": 0
}
